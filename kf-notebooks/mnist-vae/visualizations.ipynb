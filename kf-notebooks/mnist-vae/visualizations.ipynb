{
 "cells": [
  {
   "cell_type": "code",
   "execution_count": null,
   "id": "2dcaf461-d350-4770-9a78-f22b5945b2bf",
   "metadata": {},
   "outputs": [],
   "source": [
    "from model.datamodule import MNISTDataModule\n",
    "import matplotlib.pyplot as plt\n",
    "from mpl_toolkits.axes_grid1 import ImageGrid\n",
    "from model.vae import VAE\n",
    "import torch\n",
    "from ipywidgets import interact\n",
    "import os\n",
    "import glob"
   ]
  },
  {
   "cell_type": "markdown",
   "id": "c87af266-8b6c-4f7f-b659-b933d7610ba6",
   "metadata": {},
   "source": [
    "# load and setup data module"
   ]
  },
  {
   "cell_type": "code",
   "execution_count": null,
   "id": "fce62d45-c3fe-458b-8424-0ebd9a0a398d",
   "metadata": {},
   "outputs": [],
   "source": [
    "dm = MNISTDataModule(data_path='./data', num_workers=4, batch_size=32)\n",
    "dm.setup()"
   ]
  },
  {
   "cell_type": "markdown",
   "id": "8d830295-c84c-4a9a-98bd-470f79f9e39e",
   "metadata": {},
   "source": [
    "# visualize some random examples from the validation dataset"
   ]
  },
  {
   "cell_type": "code",
   "execution_count": null,
   "id": "ef918865-0060-4bd3-809b-da7d6c7fd4c7",
   "metadata": {},
   "outputs": [],
   "source": [
    "dataiter = iter(dm.val_dataloader())\n",
    "image = next(dataiter)\n",
    "\n",
    "num_samples = 25\n",
    "sample_images = [image[0][i,0] for i in range(num_samples)] \n",
    "\n",
    "fig = plt.figure(figsize=(5, 5))\n",
    "grid = ImageGrid(fig, 111, nrows_ncols=(5, 5), axes_pad=0.1)\n",
    "\n",
    "for ax, im in zip(grid, sample_images):\n",
    "    ax.imshow(im, cmap='gray')\n",
    "    ax.axis('off')\n",
    "\n",
    "plt.show()"
   ]
  },
  {
   "cell_type": "markdown",
   "id": "2cea08fc-b476-47eb-bca7-229558405204",
   "metadata": {},
   "source": [
    "# load the trained model from the checkpoint"
   ]
  },
  {
   "cell_type": "code",
   "execution_count": null,
   "id": "a9e98287-88d8-4f99-aff3-cabd56d3937f",
   "metadata": {},
   "outputs": [],
   "source": [
    "# helper function to get the latest model\n",
    "def find_latest_checkpoint(base_path: str = \"./lightning_logs\") -> str:\n",
    "    \"\"\"\n",
    "    Finds the latest checkpoint file in the PyTorch Lightning logs.\n",
    "\n",
    "    This function searches through the version directories in the specified base path,\n",
    "    identifies the latest version, and then finds the latest checkpoint within that version.\n",
    "\n",
    "    Args:\n",
    "        base_path (str): The base path where the lightning logs are stored.\n",
    "\n",
    "    Returns:\n",
    "        str: The path to the latest checkpoint file.\n",
    "    \"\"\"\n",
    "    # Find all directories with the pattern 'version_*'\n",
    "    version_dirs = glob.glob(os.path.join(base_path, \"version_*\"))\n",
    "\n",
    "    # Sort the found directories and select the latest one\n",
    "    latest_version_dir = sorted(version_dirs, key=lambda x: int(x.split('_')[-1]))[-1]\n",
    "\n",
    "    # Find the latest checkpoint in the latest directory\n",
    "    checkpoint_path = max(glob.glob(os.path.join(latest_version_dir, \"checkpoints\", \"*.ckpt\")), key=os.path.getmtime)\n",
    "\n",
    "    return checkpoint_path"
   ]
  },
  {
   "cell_type": "code",
   "execution_count": null,
   "id": "d5356c84-b7d8-4f61-bcfd-43eea1835fbd",
   "metadata": {},
   "outputs": [],
   "source": [
    "latest_checkpoint = find_latest_checkpoint()\n",
    "vae = VAE.load_from_checkpoint(latest_checkpoint).to('cpu')"
   ]
  },
  {
   "cell_type": "markdown",
   "id": "a1a11176-6640-4e73-927b-422182d4130a",
   "metadata": {},
   "source": [
    "# Generate data using the decoder neural network"
   ]
  },
  {
   "cell_type": "code",
   "execution_count": null,
   "id": "d032c5d3-1476-40b6-b32f-68b462c27890",
   "metadata": {},
   "outputs": [],
   "source": [
    "def generate_image(z1=0, z2=0):\n",
    "    plt.figure(figsize=(2, 2))  # Festlegen der Abbildungsgröße, z.B. 4x4 Zoll\n",
    "    input_tensor = torch.Tensor([z1, z2]).to('cpu')\n",
    "    img_array = vae.decode(input_tensor).reshape(28, 28).cpu().detach().numpy()\n",
    "    plt.imshow(img_array, cmap='gray')\n",
    "    plt.axis('off')  # Optional: Achsen ausblenden\n",
    "    plt.show()\n",
    "\n",
    "interact(generate_image, z1=(-5.0, 5.0, 0.1), z2=(-5.0, 5.0, 0.1))\n"
   ]
  },
  {
   "cell_type": "markdown",
   "id": "23ff9849-47fd-48c9-8f45-70ca229d08f4",
   "metadata": {},
   "source": [
    "# Visualize distribution of the means of the latent space"
   ]
  },
  {
   "cell_type": "code",
   "execution_count": null,
   "id": "26486b7a-36ce-450e-bb94-721dc0ddf700",
   "metadata": {},
   "outputs": [],
   "source": [
    "import torch\n",
    "import matplotlib.pyplot as plt\n",
    "\n",
    "# Set the model to evaluation mode\n",
    "vae.eval()\n",
    "\n",
    "# Move the model to CPU for compatibility\n",
    "vae.to('cpu')\n",
    "\n",
    "# Iterate through the data in the DataModule\n",
    "all_latent_vars = []\n",
    "all_labels = []\n",
    "for batch in dm.val_dataloader():\n",
    "    inputs, labels = batch\n",
    "    with torch.no_grad():  # No gradient computation\n",
    "        _, _, latent_vars, _ = vae(batch)\n",
    "        all_latent_vars.append(latent_vars.cpu())\n",
    "        all_labels.append(labels.cpu())\n",
    "\n",
    "# Convert to a single tensor array\n",
    "all_latent_vars = torch.cat(all_latent_vars, dim=0)\n",
    "all_labels = torch.cat(all_labels, dim=0)\n",
    "\n",
    "# Create the scatter plot\n",
    "plt.figure(figsize=(10, 8))\n",
    "for i in range(all_labels.max() + 1):  # Assuming 0-based class labels\n",
    "    indices = all_labels == i\n",
    "    plt.scatter(all_latent_vars[indices, 0], all_latent_vars[indices, 1], label=f'Class {i}', alpha=0.1, s=10)\n",
    "\n",
    "plt.xlabel(r'Means of latent variable z_1')\n",
    "plt.ylabel('Means of latent variable z_2')\n",
    "plt.legend()\n",
    "plt.show()"
   ]
  },
  {
   "cell_type": "code",
   "execution_count": null,
   "id": "32ea11b1-292b-40ca-82b7-2b497b8b8748",
   "metadata": {},
   "outputs": [],
   "source": []
  },
  {
   "cell_type": "code",
   "execution_count": null,
   "id": "4ac85ebe-789b-4a05-97a4-6d218f42462a",
   "metadata": {},
   "outputs": [],
   "source": []
  }
 ],
 "metadata": {
  "kernelspec": {
   "display_name": "minimal-mnist",
   "language": "python",
   "name": "minimal-mnist"
  },
  "language_info": {
   "codemirror_mode": {
    "name": "ipython",
    "version": 3
   },
   "file_extension": ".py",
   "mimetype": "text/x-python",
   "name": "python",
   "nbconvert_exporter": "python",
   "pygments_lexer": "ipython3",
   "version": "3.9.7"
  }
 },
 "nbformat": 4,
 "nbformat_minor": 5
}
