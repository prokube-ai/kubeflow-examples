{
 "cells": [
  {
   "cell_type": "code",
   "execution_count": null,
   "id": "80357eb1",
   "metadata": {
    "tags": []
   },
   "outputs": [],
   "source": [
    "# Assuming the notebook is executed behind a proxy\n",
    "# Below is for when the environment variable is not already set\n",
    "import os\n",
    "os.environ[\"http_proxy\"] = \"http://squid-proxy:3128\" # Change to your proxy\n",
    "os.environ[\"HTTP_PROXY\"] = \"http://squid-proxy:3128\" # Change to your proxy\n",
    "os.environ[\"https_proxy\"] = \"http://squid-proxy:3128\" # Change to your proxy\n",
    "os.environ[\"HTTPS_PROXY\"] = \"http://squid-proxy:3128\" # Change to your proxy\n",
    "# Unfortunately no_proxy is not standardized and is different for different tools\n",
    "# i.e: CIDR notation is not supported for most tools\n",
    "# Therefore this might need to be tweaked depending on the tool and the network\n",
    "# i.e: 10.152.183.1 is the default ip for kubernetes API for microk8s but it might be different in your cluster.\n",
    "os.environ[\"no_proxy\"] = \"10.0.0.0/8,10.152.183.1,192.168.0.0/16,127.0.0.1,172.16.0.0/16,.svc,localhost,.kubeflow\"\n",
    "os.environ[\"NO_PROXY\"] = \"10.0.0.0/8,10.152.183.1,192.168.0.0/16,127.0.0.1,172.16.0.0/16,.svc,localhost,.kubeflow\""
   ]
  },
  {
   "cell_type": "code",
   "execution_count": null,
   "id": "f7f123d1-b879-4939-ba87-a6e090c420a9",
   "metadata": {
    "tags": []
   },
   "outputs": [],
   "source": [
    "%pip install dask dask-kubernetes requests"
   ]
  },
  {
   "cell_type": "code",
   "execution_count": null,
   "id": "603878cd-56a2-4fa2-8ede-eb19f6aa22cd",
   "metadata": {
    "tags": []
   },
   "outputs": [],
   "source": [
    "import requests\n",
    "from dask.distributed import Client, as_completed\n",
    "from dask_kubernetes.operator import KubeCluster"
   ]
  },
  {
   "cell_type": "code",
   "execution_count": null,
   "id": "1c1b1117-5c48-42b0-89ec-afbb33a3548c",
   "metadata": {
    "tags": []
   },
   "outputs": [],
   "source": [
    "def fetch_url(url):\n",
    "    try:\n",
    "        response = requests.get(url, timeout=1)\n",
    "        return url, response.status_code\n",
    "    except Exception as e:\n",
    "        return \"error\", str(e)"
   ]
  },
  {
   "cell_type": "code",
   "execution_count": null,
   "id": "9e854b94-ef10-4e3a-ab5b-55e9c01ecee1",
   "metadata": {
    "tags": []
   },
   "outputs": [],
   "source": [
    "websites = [\n",
    "    \"http://facebook.com\",\n",
    "    \"http://google.com\",\n",
    "    \"http://microsoft.com\",\n",
    "    \"http://apple.com\",\n",
    "    \"http://amazon.com\"\n",
    "]"
   ]
  },
  {
   "cell_type": "code",
   "execution_count": null,
   "id": "82de1c86-3dfc-4fce-8f51-733c886be14b",
   "metadata": {},
   "outputs": [],
   "source": [
    "# This example is written for python version 3.11. Update the below image if your python version is different\n",
    "dask_image=\"ghcr.io/dask/dask:2025.2.0-py3.11\""
   ]
  },
  {
   "cell_type": "code",
   "execution_count": null,
   "id": "76e3769e-1f22-40ad-9495-0c417c14bc2a",
   "metadata": {
    "tags": []
   },
   "outputs": [],
   "source": [
    "from platform import python_version\n",
    "version=[int(v) for v in python_version().split(\".\")]\n",
    "if version[0] != 3 or version[1] != 11:\n",
    "    print(\"Your python version is not 3.11.x, make sure to update dask_image accordingly to avoid missmatch\")"
   ]
  },
  {
   "cell_type": "code",
   "execution_count": null,
   "id": "64dfcfcd-1979-4b22-81a5-de24ba3af829",
   "metadata": {
    "tags": []
   },
   "outputs": [],
   "source": [
    "\n",
    "# Cluster with no proxy configuration\n",
    "cluster_no_proxy=KubeCluster(name=\"no-proxy\", namespace=\"kubeflow-user-example-com\", image=dask_image)\n",
    "\n",
    "# Cluster with proxy configuration by setting the environment\n",
    "cluster_with_proxy = KubeCluster(name=\"proxy\", namespace=\"kubeflow-user-example-com\", image=dask_image, \n",
    "                      # Assuming the proxy settings are same for every machine and pod in the cluster\n",
    "                      # Since we set up above, we can just pass the environment variables\n",
    "                      env={\n",
    "                          \"http_proxy\": os.environ.get(\"http_proxy\"),\n",
    "                          \"HTTP_PROXY\": os.environ.get(\"HTTP_PROXY\"),\n",
    "                          \"https_proxy\": os.environ.get(\"https_proxy\"),\n",
    "                          \"HTTPS_PROXY\": os.environ.get(\"HTTPS_PROXY\"),\n",
    "                          \"no_proxy\": os.environ.get(\"no_proxy\"),\n",
    "                          \"NO_PROXY\": os.environ.get(\"NO_PROXY\")\n",
    "                      }\n",
    "                     )"
   ]
  },
  {
   "cell_type": "code",
   "execution_count": null,
   "id": "5d535011-3da3-425a-ad1a-12ff0539d917",
   "metadata": {
    "tags": []
   },
   "outputs": [],
   "source": [
    "cluster_no_proxy.scale(5)\n",
    "cluster_with_proxy.scale(5)"
   ]
  },
  {
   "cell_type": "code",
   "execution_count": null,
   "id": "27c0eca2",
   "metadata": {
    "tags": []
   },
   "outputs": [],
   "source": [
    "client_no_proxy = Client(cluster_no_proxy)\n",
    "client_with_proxy = Client(cluster_with_proxy)"
   ]
  },
  {
   "cell_type": "code",
   "execution_count": null,
   "id": "28170411-3fba-4b29-9b2c-aa48f991e14f",
   "metadata": {
    "tags": []
   },
   "outputs": [],
   "source": [
    "futures_no_proxy = [client_no_proxy.submit(fetch_url, site) for site in websites]\n",
    "futures_with_proxy = [client_with_proxy.submit(fetch_url, site) for site in websites]"
   ]
  },
  {
   "cell_type": "code",
   "execution_count": null,
   "id": "e02f3639-0c49-4c34-8939-345d43cd592d",
   "metadata": {
    "tags": []
   },
   "outputs": [],
   "source": [
    "print(\"Result from workers with no proxy configuration\")\n",
    "for future in as_completed(futures_no_proxy):\n",
    "    print(future.result())"
   ]
  },
  {
   "cell_type": "code",
   "execution_count": null,
   "id": "86e30ca1-21fc-412f-8c14-c6f06ff92075",
   "metadata": {
    "tags": []
   },
   "outputs": [],
   "source": [
    "print(\"Result of workers with proxy configured\")\n",
    "for future in as_completed(futures_with_proxy):\n",
    "    print(future.result())"
   ]
  },
  {
   "cell_type": "code",
   "execution_count": null,
   "id": "111bb77c-07ea-4dfa-83f5-9bc5b31915fc",
   "metadata": {
    "tags": []
   },
   "outputs": [],
   "source": [
    "client_no_proxy.close()\n",
    "client_with_proxy.close()\n",
    "cluster_no_proxy.close()\n",
    "cluster_with_proxy.close()"
   ]
  }
 ],
 "metadata": {
  "kernelspec": {
   "display_name": "Python 3 (ipykernel)",
   "language": "python",
   "name": "python3"
  },
  "language_info": {
   "codemirror_mode": {
    "name": "ipython",
    "version": 3
   },
   "file_extension": ".py",
   "mimetype": "text/x-python",
   "name": "python",
   "nbconvert_exporter": "python",
   "pygments_lexer": "ipython3",
   "version": "3.11.6"
  }
 },
 "nbformat": 4,
 "nbformat_minor": 5
}
