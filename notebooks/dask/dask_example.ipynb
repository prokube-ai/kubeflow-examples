{
 "cells": [
  {
   "cell_type": "markdown",
   "id": "6d513983-e0c7-4a1e-bbf1-61d3042cc3dc",
   "metadata": {},
   "source": [
    "# README\n",
    "\n",
    "This example shows how to use the dask operator from a notebook."
   ]
  },
  {
   "cell_type": "code",
   "execution_count": null,
   "id": "2885f21a-18b8-4ea7-828c-1c3cf0d5e7c7",
   "metadata": {},
   "outputs": [],
   "source": [
    "namespace = 'your-namespace-name'   # put the name of your namespace here"
   ]
  },
  {
   "cell_type": "code",
   "execution_count": null,
   "id": "faf3634f-89b9-467d-95da-d922a4d89a90",
   "metadata": {},
   "outputs": [],
   "source": [
    "if namespace == 'your-namespace-name':\n",
    "    raise ValueError('You need to set the `namespace` variable to your personal namespace')"
   ]
  },
  {
   "cell_type": "code",
   "execution_count": null,
   "id": "0",
   "metadata": {
    "tags": []
   },
   "outputs": [],
   "source": [
    "!pip install --upgrade ipywidgets dask-kubernetes==2024.9.0 pandas \"dask[complete]\"==2024.9.1"
   ]
  },
  {
   "cell_type": "code",
   "execution_count": null,
   "id": "1",
   "metadata": {
    "tags": []
   },
   "outputs": [],
   "source": [
    "import dask.dataframe as dd\n",
    "from dask_kubernetes.operator import KubeCluster\n",
    "from dask.distributed import Client"
   ]
  },
  {
   "cell_type": "code",
   "execution_count": null,
   "id": "397fc086-a586-4e25-b141-0955045eccf1",
   "metadata": {
    "tags": []
   },
   "outputs": [],
   "source": [
    "from kubernetes import client, config\n",
    "config.load_incluster_config()\n",
    "v1 = client.CoreV1Api()\n",
    "print(v1.api_client.configuration.host)"
   ]
  },
  {
   "cell_type": "code",
   "execution_count": null,
   "id": "d0209b40-592e-433a-a5fa-d7cef5555af0",
   "metadata": {
    "tags": []
   },
   "outputs": [],
   "source": [
    "from kubernetes import config, client\n",
    "from kubernetes.dynamic import DynamicClient\n",
    "\n",
    "dyn_client = DynamicClient(client.ApiClient())"
   ]
  },
  {
   "cell_type": "code",
   "execution_count": null,
   "id": "eef6d133-9d9a-4657-86c0-27ea4b1dc8fe",
   "metadata": {
    "tags": []
   },
   "outputs": [],
   "source": [
    "import dask"
   ]
  },
  {
   "cell_type": "code",
   "execution_count": null,
   "id": "73556977-de30-43fb-b94f-4289ff024c5c",
   "metadata": {
    "tags": []
   },
   "outputs": [],
   "source": [
    "dask.__version__"
   ]
  },
  {
   "cell_type": "code",
   "execution_count": null,
   "id": "2",
   "metadata": {
    "tags": []
   },
   "outputs": [],
   "source": [
    "cluster = KubeCluster(name=\"test-cluster\", namespace=namespace, image=\"daskdev/dask:2024.9.1-py3.11\")\n",
    "cluster.scale(3)\n",
    "client = Client(cluster)"
   ]
  },
  {
   "cell_type": "code",
   "execution_count": null,
   "id": "3",
   "metadata": {
    "tags": []
   },
   "outputs": [],
   "source": [
    "cluster"
   ]
  },
  {
   "cell_type": "code",
   "execution_count": null,
   "id": "1b18cb97-f123-48f6-aafa-c9269913a436",
   "metadata": {
    "tags": []
   },
   "outputs": [],
   "source": [
    "import dask.array as da\n",
    "x = da.random.random((100000, 100000), chunks=(1000, 1000))\n",
    "x"
   ]
  },
  {
   "cell_type": "code",
   "execution_count": null,
   "id": "38820661-a96d-47a3-99b4-485ed36d4015",
   "metadata": {
    "tags": []
   },
   "outputs": [],
   "source": [
    "y = (x + x.T) / 2\n",
    "z = y[::2, 5000:].mean(axis=1)\n",
    "z"
   ]
  },
  {
   "cell_type": "code",
   "execution_count": null,
   "id": "18d54bc6-8fa2-484a-b9da-347de6850960",
   "metadata": {
    "tags": []
   },
   "outputs": [],
   "source": [
    "y.mean().compute()"
   ]
  },
  {
   "cell_type": "code",
   "execution_count": null,
   "id": "3e950018-4970-451f-b6e7-63494f2f3f9f",
   "metadata": {
    "tags": []
   },
   "outputs": [],
   "source": [
    "cluster.scale(5)"
   ]
  },
  {
   "cell_type": "code",
   "execution_count": null,
   "id": "9a31666b-0cf2-4726-b522-870f8bee643b",
   "metadata": {},
   "outputs": [],
   "source": [
    "client.close()\n",
    "cluster.close()"
   ]
  }
 ],
 "metadata": {
  "kernelspec": {
   "display_name": "Python 3 (ipykernel)",
   "language": "python",
   "name": "python3"
  },
  "language_info": {
   "codemirror_mode": {
    "name": "ipython",
    "version": 3
   },
   "file_extension": ".py",
   "mimetype": "text/x-python",
   "name": "python",
   "nbconvert_exporter": "python",
   "pygments_lexer": "ipython3",
   "version": "3.11.10"
  }
 },
 "nbformat": 4,
 "nbformat_minor": 5
}
